{
 "cells": [
  {
   "cell_type": "markdown",
   "metadata": {},
   "source": [
    "# PLATO MSAP5-31\n",
    "\n",
    "### Consistency checks\n",
    "\n",
    "\n",
    "[Earl Patrick Bellinger](https://earlbellinger.com)$^{1}$\n",
    "\n",
    "$^1$_Department of Astronomy, Yale University_ "
   ]
  },
  {
   "cell_type": "code",
   "execution_count": 1,
   "metadata": {},
   "outputs": [],
   "source": [
    "import os\n",
    "import numpy as np"
   ]
  },
  {
   "cell_type": "code",
   "execution_count": 2,
   "metadata": {},
   "outputs": [],
   "source": [
    "from MSAP5_31_consistency import consistency"
   ]
  },
  {
   "cell_type": "code",
   "execution_count": 3,
   "metadata": {},
   "outputs": [],
   "source": [
    "import warnings\n",
    "warnings.simplefilter(\"ignore\", UserWarning)"
   ]
  },
  {
   "cell_type": "code",
   "execution_count": 4,
   "metadata": {},
   "outputs": [
    {
     "name": "stdout",
     "output_type": "stream",
     "text": [
      "Test case: 0_consistent\n",
      "Result: [True, True, True]\n",
      "\n",
      "Test case: 1_one_inconsistent_M\n",
      "Result: [False, True, True]\n",
      "\n",
      "Test case: 2_two_inconsistent_R\n",
      "Result: [True, False, True]\n",
      "\n",
      "Test case: 3_three_inconsistent_A\n",
      "Result: [True, True, False]\n",
      "\n",
      "Test case: 4_invalid\n",
      "Result: [True, True, True]\n",
      "\n"
     ]
    }
   ],
   "source": [
    "for test_case in sorted(os.listdir('inputs')):\n",
    "    print('Test case:', test_case)\n",
    "    filenames = os.listdir(os.path.join('inputs', test_case))\n",
    "    \n",
    "    kwargs = {}\n",
    "    for filename in filenames:\n",
    "        name = os.path.splitext(filename)[0]\n",
    "        data = np.loadtxt(os.path.join('inputs', test_case, filename))\n",
    "        kwargs.update({name: data})\n",
    "    \n",
    "    print(\"Result:\", consistency(**kwargs))\n",
    "    print()"
   ]
  }
 ],
 "metadata": {
  "kernelspec": {
   "display_name": "Python 3 (ipykernel)",
   "language": "python",
   "name": "python3"
  },
  "language_info": {
   "codemirror_mode": {
    "name": "ipython",
    "version": 3
   },
   "file_extension": ".py",
   "mimetype": "text/x-python",
   "name": "python",
   "nbconvert_exporter": "python",
   "pygments_lexer": "ipython3",
   "version": "3.9.18"
  },
  "toc": {
   "base_numbering": 1,
   "nav_menu": {},
   "number_sections": true,
   "sideBar": true,
   "skip_h1_title": false,
   "title_cell": "Table of Contents",
   "title_sidebar": "Contents",
   "toc_cell": false,
   "toc_position": {},
   "toc_section_display": true,
   "toc_window_display": true
  },
  "varInspector": {
   "cols": {
    "lenName": 16,
    "lenType": 16,
    "lenVar": 40
   },
   "kernels_config": {
    "python": {
     "delete_cmd_postfix": "",
     "delete_cmd_prefix": "del ",
     "library": "var_list.py",
     "varRefreshCmd": "print(var_dic_list())"
    },
    "r": {
     "delete_cmd_postfix": ") ",
     "delete_cmd_prefix": "rm(",
     "library": "var_list.r",
     "varRefreshCmd": "cat(var_dic_list()) "
    }
   },
   "types_to_exclude": [
    "module",
    "function",
    "builtin_function_or_method",
    "instance",
    "_Feature"
   ],
   "window_display": false
  }
 },
 "nbformat": 4,
 "nbformat_minor": 4
}
